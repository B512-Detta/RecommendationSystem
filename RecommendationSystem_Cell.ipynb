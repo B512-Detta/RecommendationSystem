{
  "nbformat": 4,
  "nbformat_minor": 0,
  "metadata": {
    "colab": {
      "provenance": []
    },
    "kernelspec": {
      "name": "python3",
      "display_name": "Python 3"
    },
    "language_info": {
      "name": "python"
    }
  },
  "cells": [
    {
      "cell_type": "markdown",
      "source": [
        "**Import Library**"
      ],
      "metadata": {
        "id": "ESAHbm1HBVE4"
      }
    },
    {
      "cell_type": "code",
      "source": [
        "import pandas as pd\n",
        "import numpy as np\n",
        "import matplotlib.pyplot as plt\n",
        "import seaborn as sns\n",
        "from sklearn.metrics.pairwise import cosine_similarity\n",
        "from sklearn.preprocessing import MinMaxScaler"
      ],
      "metadata": {
        "id": "X4gIQXxEBbrN"
      },
      "execution_count": 1,
      "outputs": []
    },
    {
      "cell_type": "markdown",
      "source": [
        "# **Data Understanding**"
      ],
      "metadata": {
        "id": "7TZr1Zv4Bgqo"
      }
    },
    {
      "cell_type": "markdown",
      "source": [
        "**Unzip Dataset**"
      ],
      "metadata": {
        "id": "HAyUy2vLBk1P"
      }
    },
    {
      "cell_type": "code",
      "execution_count": 2,
      "metadata": {
        "id": "Eqo-gw5dheWh",
        "outputId": "2858e891-36e0-4697-e13e-371848009428",
        "colab": {
          "base_uri": "https://localhost:8080/"
        }
      },
      "outputs": [
        {
          "output_type": "stream",
          "name": "stdout",
          "text": [
            "Archive:  /content/archive (2).zip\n",
            "  inflating: cellphones data.csv     \n",
            "  inflating: cellphones ratings.csv  \n",
            "  inflating: cellphones users.csv    \n"
          ]
        }
      ],
      "source": [
        "!unzip '/content/archive (2).zip'"
      ]
    },
    {
      "cell_type": "markdown",
      "source": [
        "**Data Loading**"
      ],
      "metadata": {
        "id": "Liv1_3LKXLpq"
      }
    },
    {
      "cell_type": "code",
      "source": [
        "ratings_df = pd.read_csv('cellphones ratings.csv')\n",
        "users_df = pd.read_csv('cellphones users.csv')\n",
        "cellphones_df = pd.read_csv('cellphones data.csv')"
      ],
      "metadata": {
        "id": "DXeIWx5Oj7vU"
      },
      "execution_count": 4,
      "outputs": []
    },
    {
      "cell_type": "markdown",
      "source": [
        "**Mengeluarkan output basic dari dari masing-masing data**"
      ],
      "metadata": {
        "id": "qDHovJbxB57G"
      }
    },
    {
      "cell_type": "code",
      "source": [
        "print(\"Ratings Data:\")\n",
        "print(ratings_df.info())\n",
        "print(ratings_df.head())\n",
        "\n",
        "print(\"\\nUsers Data:\")\n",
        "print(users_df.info())\n",
        "print(users_df.head())\n",
        "\n",
        "print(\"\\nCellphones Data:\")\n",
        "print(cellphones_df.info())\n",
        "print(cellphones_df.head())"
      ],
      "metadata": {
        "colab": {
          "base_uri": "https://localhost:8080/"
        },
        "id": "LTjAJmpwBy9l",
        "outputId": "84e8859b-916c-463f-ac0c-adab230799c1"
      },
      "execution_count": 5,
      "outputs": [
        {
          "output_type": "stream",
          "name": "stdout",
          "text": [
            "Ratings Data:\n",
            "<class 'pandas.core.frame.DataFrame'>\n",
            "RangeIndex: 990 entries, 0 to 989\n",
            "Data columns (total 3 columns):\n",
            " #   Column        Non-Null Count  Dtype\n",
            "---  ------        --------------  -----\n",
            " 0   user_id       990 non-null    int64\n",
            " 1   cellphone_id  990 non-null    int64\n",
            " 2   rating        990 non-null    int64\n",
            "dtypes: int64(3)\n",
            "memory usage: 23.3 KB\n",
            "None\n",
            "   user_id  cellphone_id  rating\n",
            "0        0            30       1\n",
            "1        0             5       3\n",
            "2        0            10       9\n",
            "3        0             9       3\n",
            "4        0            23       2\n",
            "\n",
            "Users Data:\n",
            "<class 'pandas.core.frame.DataFrame'>\n",
            "RangeIndex: 99 entries, 0 to 98\n",
            "Data columns (total 4 columns):\n",
            " #   Column      Non-Null Count  Dtype \n",
            "---  ------      --------------  ----- \n",
            " 0   user_id     99 non-null     int64 \n",
            " 1   age         99 non-null     int64 \n",
            " 2   gender      99 non-null     object\n",
            " 3   occupation  98 non-null     object\n",
            "dtypes: int64(2), object(2)\n",
            "memory usage: 3.2+ KB\n",
            "None\n",
            "   user_id  age  gender         occupation\n",
            "0        0   38  Female       Data analyst\n",
            "1        1   40  Female  team worker in it\n",
            "2        6   55  Female                 IT\n",
            "3        8   25  Female            Manager\n",
            "4       10   23    Male             worker\n",
            "\n",
            "Cellphones Data:\n",
            "<class 'pandas.core.frame.DataFrame'>\n",
            "RangeIndex: 33 entries, 0 to 32\n",
            "Data columns (total 14 columns):\n",
            " #   Column            Non-Null Count  Dtype  \n",
            "---  ------            --------------  -----  \n",
            " 0   cellphone_id      33 non-null     int64  \n",
            " 1   brand             33 non-null     object \n",
            " 2   model             33 non-null     object \n",
            " 3   operating system  33 non-null     object \n",
            " 4   internal memory   33 non-null     int64  \n",
            " 5   RAM               33 non-null     int64  \n",
            " 6   performance       33 non-null     float64\n",
            " 7   main camera       33 non-null     int64  \n",
            " 8   selfie camera     33 non-null     int64  \n",
            " 9   battery size      33 non-null     int64  \n",
            " 10  screen size       33 non-null     float64\n",
            " 11  weight            33 non-null     int64  \n",
            " 12  price             33 non-null     int64  \n",
            " 13  release date      33 non-null     object \n",
            "dtypes: float64(2), int64(8), object(4)\n",
            "memory usage: 3.7+ KB\n",
            "None\n",
            "   cellphone_id  brand              model operating system  internal memory  \\\n",
            "0             0  Apple   iPhone SE (2022)              iOS              128   \n",
            "1             1  Apple     iPhone 13 Mini              iOS              128   \n",
            "2             2  Apple          iPhone 13              iOS              128   \n",
            "3             3  Apple      iPhone 13 Pro              iOS              256   \n",
            "4             4  Apple  iPhone 13 Pro Max              iOS              256   \n",
            "\n",
            "   RAM  performance  main camera  selfie camera  battery size  screen size  \\\n",
            "0    4         7.23           12              7          2018          4.7   \n",
            "1    4         7.72           12             12          2438          5.4   \n",
            "2    4         7.75           12             12          3240          6.1   \n",
            "3    6         7.94           12             12          3065          6.1   \n",
            "4    6         8.01           12             12          4352          6.7   \n",
            "\n",
            "   weight  price release date  \n",
            "0     144    429   18/03/2022  \n",
            "1     141    699   24/09/2021  \n",
            "2     174    699   24/09/2021  \n",
            "3     204    999   24/09/2021  \n",
            "4     240   1199   24/09/2021  \n"
          ]
        }
      ]
    },
    {
      "cell_type": "markdown",
      "source": [
        "**Visualisasi Distribusi Rating**"
      ],
      "metadata": {
        "id": "ncZM7QQ4CHej"
      }
    },
    {
      "cell_type": "code",
      "source": [
        "sns.histplot(ratings_df['rating'], bins=10, kde=False, color='blue')\n",
        "plt.title('Distribution of Ratings')\n",
        "plt.xlabel('Rating')\n",
        "plt.ylabel('Frequency')\n",
        "plt.show()"
      ],
      "metadata": {
        "colab": {
          "base_uri": "https://localhost:8080/",
          "height": 472
        },
        "id": "ReVMXqEoCBNQ",
        "outputId": "069e7ab9-0485-432c-f369-b1a2bca380ff"
      },
      "execution_count": 6,
      "outputs": [
        {
          "output_type": "display_data",
          "data": {
            "text/plain": [
              "<Figure size 640x480 with 1 Axes>"
            ],
            "image/png": "[encoded data removed]"
          },
          "metadata": {}
        }
      ]
    },
    {
      "cell_type": "markdown",
      "source": [
        "**Visualisasi Distribusi Usia dan Gender Pengguna**"
      ],
      "metadata": {
        "id": "8I2Kdx2PCOwc"
      }
    },
    {
      "cell_type": "code",
      "source": [
        "plt.figure(figsize=(10, 5))\n",
        "sns.histplot(users_df['age'], bins=15, kde=True, color='green')\n",
        "plt.title('Distribution of User Ages')\n",
        "plt.xlabel('Age')\n",
        "plt.ylabel('Frequency')\n",
        "plt.show()\n",
        "\n",
        "sns.countplot(data=users_df, x='gender', palette='Set2')\n",
        "plt.title('Gender Distribution')\n",
        "plt.show()"
      ],
      "metadata": {
        "colab": {
          "base_uri": "https://localhost:8080/",
          "height": 1000
        },
        "id": "K9cAfDCjCLFe",
        "outputId": "17b187b6-45eb-4687-aa51-02533420243f"
      },
      "execution_count": 7,
      "outputs": [
        {
          "output_type": "display_data",
          "data": {
            "text/plain": [
              "<Figure size 1000x500 with 1 Axes>"
            ],
            "image/png": "[encoded data removed]"
          },
          "metadata": {}
        },
        {
          "output_type": "stream",
          "name": "stderr",
          "text": [
            "<ipython-input-7-1bc9270a29fb>:8: FutureWarning: \n",
            "\n",
            "Passing `palette` without assigning `hue` is deprecated and will be removed in v0.14.0. Assign the `x` variable to `hue` and set `legend=False` for the same effect.\n",
            "\n",
            "  sns.countplot(data=users_df, x='gender', palette='Set2')\n"
          ]
        },
        {
          "output_type": "display_data",
          "data": {
            "text/plain": [
              "<Figure size 640x480 with 1 Axes>"
            ],
            "image/png": "[encoded data removed]"
          },
          "metadata": {}
        }
      ]
    },
    {
      "cell_type": "markdown",
      "source": [
        "Informasi Data Ponsel"
      ],
      "metadata": {
        "id": "TRsWjCYWCXjK"
      }
    },
    {
      "cell_type": "code",
      "source": [
        "print(\"Unique Brands in Dataset:\", cellphones_df['brand'].nunique())\n",
        "print(\"Unique Models in Dataset:\", cellphones_df['model'].nunique())\n",
        "print(cellphones_df.describe(include='all'))"
      ],
      "metadata": {
        "colab": {
          "base_uri": "https://localhost:8080/"
        },
        "id": "IQG0mx21CT50",
        "outputId": "81cb5d88-7db6-4326-9762-1eec9566f090"
      },
      "execution_count": 8,
      "outputs": [
        {
          "output_type": "stream",
          "name": "stdout",
          "text": [
            "Unique Brands in Dataset: 10\n",
            "Unique Models in Dataset: 33\n",
            "        cellphone_id    brand             model operating system  \\\n",
            "count       33.00000       33                33               33   \n",
            "unique           NaN       10                33                2   \n",
            "top              NaN  Samsung  iPhone SE (2022)          Android   \n",
            "freq             NaN        8                 1               27   \n",
            "mean        16.00000      NaN               NaN              NaN   \n",
            "std          9.66954      NaN               NaN              NaN   \n",
            "min          0.00000      NaN               NaN              NaN   \n",
            "25%          8.00000      NaN               NaN              NaN   \n",
            "50%         16.00000      NaN               NaN              NaN   \n",
            "75%         24.00000      NaN               NaN              NaN   \n",
            "max         32.00000      NaN               NaN              NaN   \n",
            "\n",
            "        internal memory        RAM  performance  main camera  selfie camera  \\\n",
            "count         33.000000  33.000000    33.000000    33.000000      33.000000   \n",
            "unique              NaN        NaN          NaN          NaN            NaN   \n",
            "top                 NaN        NaN          NaN          NaN            NaN   \n",
            "freq                NaN        NaN          NaN          NaN            NaN   \n",
            "mean         148.363636   6.787879     6.219091    41.333333      15.484848   \n",
            "std           92.197417   2.712904     2.885472    26.350601      10.028463   \n",
            "min           32.000000   3.000000     1.020000    12.000000       4.000000   \n",
            "25%          128.000000   4.000000     3.800000    12.000000       8.000000   \n",
            "50%          128.000000   8.000000     6.880000    50.000000      12.000000   \n",
            "75%          128.000000   8.000000     7.940000    50.000000      16.000000   \n",
            "max          512.000000  12.000000    11.000000   108.000000      40.000000   \n",
            "\n",
            "        battery size  screen size      weight        price release date  \n",
            "count      33.000000    33.000000   33.000000    33.000000           33  \n",
            "unique           NaN          NaN         NaN          NaN           26  \n",
            "top              NaN          NaN         NaN          NaN   24/09/2021  \n",
            "freq             NaN          NaN         NaN          NaN            4  \n",
            "mean     4320.666667     6.433333  197.363636   628.272727          NaN  \n",
            "std       818.746590     0.476095   25.379394   433.873057          NaN  \n",
            "min      2018.000000     4.700000  141.000000   129.000000          NaN  \n",
            "25%      4000.000000     6.400000  183.000000   312.000000          NaN  \n",
            "50%      4500.000000     6.500000  201.000000   528.000000          NaN  \n",
            "75%      5000.000000     6.700000  207.000000   840.000000          NaN  \n",
            "max      5003.000000     7.600000  271.000000  1998.000000          NaN  \n"
          ]
        }
      ]
    },
    {
      "cell_type": "markdown",
      "source": [
        "# **Data Preparation**"
      ],
      "metadata": {
        "id": "4FFduybbCnCA"
      }
    },
    {
      "cell_type": "markdown",
      "source": [
        "**Cek apakah ada data yang missing value**"
      ],
      "metadata": {
        "id": "6EtU5tTRCqEQ"
      }
    },
    {
      "cell_type": "code",
      "source": [
        "print(\"Missing values in Ratings Data:\")\n",
        "print(ratings_df.isnull().sum())\n",
        "\n",
        "print(\"\\nMissing values in Users Data:\")\n",
        "print(users_df.isnull().sum())\n",
        "\n",
        "print(\"\\nMissing values in Cellphones Data:\")\n",
        "print(cellphones_df.isnull().sum())"
      ],
      "metadata": {
        "colab": {
          "base_uri": "https://localhost:8080/"
        },
        "id": "dYlLxqizCZ6p",
        "outputId": "2a8420ff-1ba5-43fc-89a2-800bc25800ab"
      },
      "execution_count": 9,
      "outputs": [
        {
          "output_type": "stream",
          "name": "stdout",
          "text": [
            "Missing values in Ratings Data:\n",
            "user_id         0\n",
            "cellphone_id    0\n",
            "rating          0\n",
            "dtype: int64\n",
            "\n",
            "Missing values in Users Data:\n",
            "user_id       0\n",
            "age           0\n",
            "gender        0\n",
            "occupation    1\n",
            "dtype: int64\n",
            "\n",
            "Missing values in Cellphones Data:\n",
            "cellphone_id        0\n",
            "brand               0\n",
            "model               0\n",
            "operating system    0\n",
            "internal memory     0\n",
            "RAM                 0\n",
            "performance         0\n",
            "main camera         0\n",
            "selfie camera       0\n",
            "battery size        0\n",
            "screen size         0\n",
            "weight              0\n",
            "price               0\n",
            "release date        0\n",
            "dtype: int64\n"
          ]
        }
      ]
    },
    {
      "cell_type": "markdown",
      "source": [
        "**terdapat missing value pada data 'User Data'**"
      ],
      "metadata": {
        "id": "-Qm4m-lFDDDG"
      }
    },
    {
      "cell_type": "code",
      "source": [
        "users_df = users_df.dropna()"
      ],
      "metadata": {
        "id": "lBzwneuICuFB"
      },
      "execution_count": 10,
      "outputs": []
    },
    {
      "cell_type": "markdown",
      "source": [
        "**Convert Date**\n",
        "\n",
        "Mengubah kolom relase date yang berada di var 'cellphone_df' menjadi tipe datetime"
      ],
      "metadata": {
        "id": "yP5fOJLBDagf"
      }
    },
    {
      "cell_type": "code",
      "source": [
        "cellphones_df['release date'] = pd.to_datetime(cellphones_df['release date'], format='%d/%m/%Y')\n",
        "scaler = MinMaxScaler()\n",
        "numerical_cols = ['internal memory', 'RAM', 'performance', 'battery size',\n",
        "                  'screen size', 'weight', 'price']\n",
        "cellphones_df[numerical_cols] = scaler.fit_transform(cellphones_df[numerical_cols])\n",
        "print(cellphones_df.head())"
      ],
      "metadata": {
        "colab": {
          "base_uri": "https://localhost:8080/"
        },
        "id": "UW_WSgemDRG0",
        "outputId": "c29c32c1-1ae9-452e-efc9-975eabccfbaa"
      },
      "execution_count": 11,
      "outputs": [
        {
          "output_type": "stream",
          "name": "stdout",
          "text": [
            "   cellphone_id  brand              model operating system  internal memory  \\\n",
            "0             0  Apple   iPhone SE (2022)              iOS         0.200000   \n",
            "1             1  Apple     iPhone 13 Mini              iOS         0.200000   \n",
            "2             2  Apple          iPhone 13              iOS         0.200000   \n",
            "3             3  Apple      iPhone 13 Pro              iOS         0.466667   \n",
            "4             4  Apple  iPhone 13 Pro Max              iOS         0.466667   \n",
            "\n",
            "        RAM  performance  main camera  selfie camera  battery size  \\\n",
            "0  0.111111     0.622244           12              7      0.000000   \n",
            "1  0.111111     0.671343           12             12      0.140704   \n",
            "2  0.111111     0.674349           12             12      0.409380   \n",
            "3  0.333333     0.693387           12             12      0.350754   \n",
            "4  0.333333     0.700401           12             12      0.781910   \n",
            "\n",
            "   screen size    weight     price release date  \n",
            "0     0.000000  0.023077  0.160514   2022-03-18  \n",
            "1     0.241379  0.000000  0.304976   2021-09-24  \n",
            "2     0.482759  0.253846  0.304976   2021-09-24  \n",
            "3     0.482759  0.484615  0.465490   2021-09-24  \n",
            "4     0.689655  0.761538  0.572499   2021-09-24  \n"
          ]
        }
      ]
    },
    {
      "cell_type": "markdown",
      "source": [
        "**Join Dataset**\n",
        "\n",
        "Menggabungkan dataset 'ratings_df' dengan 'cellphones_df' berdasarkan cellphone_id, dan ratings_df dengan users_df berdasarkan user_id."
      ],
      "metadata": {
        "id": "w0M2YG_lDv9j"
      }
    },
    {
      "cell_type": "code",
      "source": [
        "merged_df = pd.merge(ratings_df, cellphones_df, on='cellphone_id', how='inner')\n",
        "merged_df = pd.merge(merged_df, users_df, on='user_id', how='inner')\n",
        "print(\"Merged Data:\")\n",
        "print(merged_df.info())\n",
        "print(merged_df.head())"
      ],
      "metadata": {
        "colab": {
          "base_uri": "https://localhost:8080/"
        },
        "id": "ItbfO1GhDsaR",
        "outputId": "4c7b0036-bb37-49f6-d6ec-ec25345288a0"
      },
      "execution_count": 12,
      "outputs": [
        {
          "output_type": "stream",
          "name": "stdout",
          "text": [
            "Merged Data:\n",
            "<class 'pandas.core.frame.DataFrame'>\n",
            "RangeIndex: 980 entries, 0 to 979\n",
            "Data columns (total 19 columns):\n",
            " #   Column            Non-Null Count  Dtype         \n",
            "---  ------            --------------  -----         \n",
            " 0   user_id           980 non-null    int64         \n",
            " 1   cellphone_id      980 non-null    int64         \n",
            " 2   rating            980 non-null    int64         \n",
            " 3   brand             980 non-null    object        \n",
            " 4   model             980 non-null    object        \n",
            " 5   operating system  980 non-null    object        \n",
            " 6   internal memory   980 non-null    float64       \n",
            " 7   RAM               980 non-null    float64       \n",
            " 8   performance       980 non-null    float64       \n",
            " 9   main camera       980 non-null    int64         \n",
            " 10  selfie camera     980 non-null    int64         \n",
            " 11  battery size      980 non-null    float64       \n",
            " 12  screen size       980 non-null    float64       \n",
            " 13  weight            980 non-null    float64       \n",
            " 14  price             980 non-null    float64       \n",
            " 15  release date      980 non-null    datetime64[ns]\n",
            " 16  age               980 non-null    int64         \n",
            " 17  gender            980 non-null    object        \n",
            " 18  occupation        980 non-null    object        \n",
            "dtypes: datetime64[ns](1), float64(7), int64(6), object(5)\n",
            "memory usage: 145.6+ KB\n",
            "None\n",
            "   user_id  cellphone_id  rating     brand               model  \\\n",
            "0        0            30       1  Motorola  Moto G Play (2021)   \n",
            "1        0             5       3     Apple           iPhone XR   \n",
            "2        0            10       9   Samsung          Galaxy S22   \n",
            "3        0             9       3   Samsung          Galaxy A53   \n",
            "4        0            23       2      Vivo             X80 Pro   \n",
            "\n",
            "  operating system  internal memory       RAM  performance  main camera  \\\n",
            "0          Android         0.000000  0.000000     0.040080           13   \n",
            "1              iOS         0.066667  0.000000     0.320641           12   \n",
            "2          Android         0.200000  0.555556     0.780561           50   \n",
            "3          Android         0.200000  0.333333     0.277555           64   \n",
            "4          Android         0.466667  0.555556     0.880762           50   \n",
            "\n",
            "   selfie camera  battery size  screen size    weight     price release date  \\\n",
            "0              5      0.998995     0.620690  0.484615  0.016051   2021-01-14   \n",
            "1              7      0.309548     0.482759  0.407692  0.057250   2018-10-26   \n",
            "2             10      0.563484     0.482759  0.200000  0.213483   2022-02-25   \n",
            "3             32      0.998995     0.620690  0.369231  0.097913   2022-03-24   \n",
            "4             32      0.898492     0.689655  0.569231  0.397539   2022-04-29   \n",
            "\n",
            "   age  gender    occupation  \n",
            "0   38  Female  Data analyst  \n",
            "1   38  Female  Data analyst  \n",
            "2   38  Female  Data analyst  \n",
            "3   38  Female  Data analyst  \n",
            "4   38  Female  Data analyst  \n"
          ]
        }
      ]
    },
    {
      "cell_type": "markdown",
      "source": [
        "Visualisasi\n",
        "1. Distribusi price setelah normalisasi.\n",
        "2. Perbandingan rating terhadap brand."
      ],
      "metadata": {
        "id": "yXodYmiOEBbp"
      }
    },
    {
      "cell_type": "code",
      "source": [
        "sns.histplot(cellphones_df['price'], kde=True, color='purple')\n",
        "plt.title('Distribution of Normalized Prices')\n",
        "plt.xlabel('Normalized Price')\n",
        "plt.ylabel('Frequency')\n",
        "plt.show()\n",
        "\n",
        "sns.boxplot(data=merged_df, x='brand', y='rating', palette='Set3')\n",
        "plt.title('Ratings Distribution per Brand')\n",
        "plt.xticks(rotation=45)\n",
        "plt.show()"
      ],
      "metadata": {
        "colab": {
          "base_uri": "https://localhost:8080/",
          "height": 1000
        },
        "id": "wIuVvmUwD7ld",
        "outputId": "97dc6eb4-b003-4bd4-dad7-f86475acdf81"
      },
      "execution_count": 13,
      "outputs": [
        {
          "output_type": "display_data",
          "data": {
            "text/plain": [
              "<Figure size 640x480 with 1 Axes>"
            ],
            "image/png": "[encoded data removed]"
          },
          "metadata": {}
        },
        {
          "output_type": "stream",
          "name": "stderr",
          "text": [
            "<ipython-input-13-1cb2fe20d620>:7: FutureWarning: \n",
            "\n",
            "Passing `palette` without assigning `hue` is deprecated and will be removed in v0.14.0. Assign the `x` variable to `hue` and set `legend=False` for the same effect.\n",
            "\n",
            "  sns.boxplot(data=merged_df, x='brand', y='rating', palette='Set3')\n"
          ]
        },
        {
          "output_type": "display_data",
          "data": {
            "text/plain": [
              "<Figure size 640x480 with 1 Axes>"
            ],
            "image/png": "[encoded data removed]"
          },
          "metadata": {}
        }
      ]
    },
    {
      "cell_type": "markdown",
      "source": [
        "# **Data Modelling and Result**"
      ],
      "metadata": {
        "id": "HO07xMM0EnP2"
      }
    },
    {
      "cell_type": "markdown",
      "source": [
        "**Content-Based Filtering**"
      ],
      "metadata": {
        "id": "44GgU_mZEqRU"
      }
    },
    {
      "cell_type": "code",
      "source": [
        "from sklearn.metrics.pairwise import cosine_similarity\n",
        "from sklearn.feature_extraction.text import TfidfVectorizer\n",
        "\n",
        "# Select features for similarity\n",
        "features = ['internal memory', 'RAM', 'performance', 'battery size',\n",
        "            'screen size', 'weight', 'price']\n",
        "content_matrix = cellphones_df[features]\n",
        "\n",
        "# Compute similarity matrix\n",
        "similarity_matrix = cosine_similarity(content_matrix)\n",
        "\n",
        "# Create function for top-N recommendation\n",
        "def recommend_content_based(cellphone_id, top_n=5):\n",
        "    idx = cellphones_df[cellphones_df['cellphone_id'] == cellphone_id].index[0]\n",
        "    similar_indices = similarity_matrix[idx].argsort()[::-1][1:top_n+1]\n",
        "    recommendations = cellphones_df.iloc[similar_indices]\n",
        "    return recommendations[['cellphone_id', 'brand', 'model', 'price']]\n",
        "\n",
        "# Example: Recommend based on cellphone ID 0\n",
        "print(\"Content-Based Recommendations:\")\n",
        "print(recommend_content_based(cellphone_id=0, top_n=5))"
      ],
      "metadata": {
        "colab": {
          "base_uri": "https://localhost:8080/"
        },
        "id": "qPovYHPCEJJb",
        "outputId": "d43a435f-a1b2-4016-bbc3-9087965a57d5"
      },
      "execution_count": 14,
      "outputs": [
        {
          "output_type": "stream",
          "name": "stdout",
          "text": [
            "Content-Based Recommendations:\n",
            "    cellphone_id    brand           model     price\n",
            "1              1    Apple  iPhone 13 Mini  0.304976\n",
            "2              2    Apple       iPhone 13  0.304976\n",
            "3              3    Apple   iPhone 13 Pro  0.465490\n",
            "10            10  Samsung      Galaxy S22  0.213483\n",
            "21            21  OnePlus             10T  0.278224\n"
          ]
        }
      ]
    },
    {
      "cell_type": "markdown",
      "source": [
        "**Collaborative Filtering**"
      ],
      "metadata": {
        "id": "ZUnJ4oDWE0Nw"
      }
    },
    {
      "cell_type": "code",
      "source": [
        "# Pivot ratings into matrix form\n",
        "ratings_matrix = ratings_df.pivot(index='user_id', columns='cellphone_id', values='rating').fillna(0)\n",
        "\n",
        "# Convert to NumPy array\n",
        "ratings_matrix_array = ratings_matrix.to_numpy()\n",
        "\n",
        "# Check the dimensions of the matrix\n",
        "num_users, num_items = ratings_matrix_array.shape\n",
        "print(f\"Matrix dimensions: Users = {num_users}, Items = {num_items}\")\n",
        "\n",
        "# Ensure k is less than min(num_users, num_items)\n",
        "k = min(num_users, num_items) - 1  # Ensure k is valid\n",
        "print(f\"Using k = {k} for SVD\")\n",
        "\n",
        "# Perform SVD\n",
        "from scipy.sparse.linalg import svds\n",
        "U, sigma, Vt = svds(ratings_matrix_array, k=k)\n",
        "sigma = np.diag(sigma)\n",
        "\n",
        "# Predict ratings\n",
        "predicted_ratings = np.dot(np.dot(U, sigma), Vt)\n",
        "\n",
        "# Convert back to DataFrame\n",
        "predicted_ratings_df = pd.DataFrame(predicted_ratings, columns=ratings_matrix.columns, index=ratings_matrix.index)\n",
        "\n",
        "print(\"SVD Decomposition Completed!\")"
      ],
      "metadata": {
        "colab": {
          "base_uri": "https://localhost:8080/"
        },
        "id": "RKhRH4RuEwhY",
        "outputId": "4271ffa1-7741-4b5c-90d1-a88aa8193c59"
      },
      "execution_count": 17,
      "outputs": [
        {
          "output_type": "stream",
          "name": "stdout",
          "text": [
            "Matrix dimensions: Users = 99, Items = 33\n",
            "Using k = 32 for SVD\n",
            "SVD Decomposition Completed!\n"
          ]
        }
      ]
    },
    {
      "cell_type": "code",
      "source": [
        "def recommend_collaborative(user_id, top_n=5):\n",
        "    # Index user\n",
        "    user_idx = ratings_matrix.index.get_loc(user_id)\n",
        "\n",
        "    # Prediksi rating user\n",
        "    user_ratings = predicted_ratings[user_idx]\n",
        "\n",
        "    # Ponsel yang sudah dirating oleh user\n",
        "    rated_items = ratings_matrix.iloc[user_idx][ratings_matrix.iloc[user_idx] > 0].index\n",
        "\n",
        "    # Filter ponsel yang belum dirating\n",
        "    unrated_items = [i for i in ratings_matrix.columns if i not in rated_items]\n",
        "\n",
        "    # Ambil prediksi rating untuk ponsel yang belum dirating\n",
        "    recommendations = {item: user_ratings[ratings_matrix.columns.get_loc(item)] for item in unrated_items}\n",
        "\n",
        "    # Sort ponsel berdasarkan prediksi rating\n",
        "    sorted_recommendations = sorted(recommendations.items(), key=lambda x: x[1], reverse=True)[:top_n]\n",
        "\n",
        "    # Buat DataFrame rekomendasi\n",
        "    recommended_cellphones = cellphones_df[cellphones_df['cellphone_id'].isin([x[0] for x in sorted_recommendations])]\n",
        "    recommended_cellphones['predicted_rating'] = [x[1] for x in sorted_recommendations]\n",
        "\n",
        "    return recommended_cellphones[['cellphone_id', 'brand', 'model', 'price', 'predicted_rating']]\n",
        "\n",
        "top_recommendations = recommend_collaborative(user_id=0, top_n=5)\n",
        "print(\"Collaborative Filtering Recommendations:\")\n",
        "print(top_recommendations)"
      ],
      "metadata": {
        "colab": {
          "base_uri": "https://localhost:8080/"
        },
        "id": "MzAJw_XIE33D",
        "outputId": "7ad86d5c-4b0e-4e13-dc3f-49f18b40f098"
      },
      "execution_count": 18,
      "outputs": [
        {
          "output_type": "stream",
          "name": "stdout",
          "text": [
            "Collaborative Filtering Recommendations:\n",
            "    cellphone_id     brand             model     price  predicted_rating\n",
            "0              0     Apple  iPhone SE (2022)  0.160514          0.149560\n",
            "6              6      Asus         Zenfone 8  0.251471          0.142755\n",
            "11            11   Samsung   Galaxy S22 Plus  0.411985          0.140686\n",
            "28            28      Sony        Xperia Pro  1.000000          0.090420\n",
            "31            31  Motorola       Moto G Pure  0.000000          0.090374\n"
          ]
        },
        {
          "output_type": "stream",
          "name": "stderr",
          "text": [
            "<ipython-input-18-ff4d3b154e57>:22: SettingWithCopyWarning: \n",
            "A value is trying to be set on a copy of a slice from a DataFrame.\n",
            "Try using .loc[row_indexer,col_indexer] = value instead\n",
            "\n",
            "See the caveats in the documentation: https://pandas.pydata.org/pandas-docs/stable/user_guide/indexing.html#returning-a-view-versus-a-copy\n",
            "  recommended_cellphones['predicted_rating'] = [x[1] for x in sorted_recommendations]\n"
          ]
        }
      ]
    },
    {
      "cell_type": "markdown",
      "source": [
        "Menyajikan Ouput dari 2 metode berbeda"
      ],
      "metadata": {
        "id": "fOaT2nipF2Hk"
      }
    },
    {
      "cell_type": "code",
      "source": [
        "# Content-Based\n",
        "content_recommendations = recommend_content_based(cellphone_id=0, top_n=5)\n",
        "\n",
        "# Collaborative Filtering\n",
        "collaborative_recommendations = recommend_collaborative(user_id=0, top_n=5)\n",
        "\n",
        "# Display results\n",
        "print(\"Content-Based Recommendations:\\n\", content_recommendations)\n",
        "print(\"\\nCollaborative Filtering Recommendations:\\n\", collaborative_recommendations)"
      ],
      "metadata": {
        "colab": {
          "base_uri": "https://localhost:8080/"
        },
        "id": "ixIUIKbpFvun",
        "outputId": "d74a594a-d352-43b3-9072-c913b6cc6204"
      },
      "execution_count": 19,
      "outputs": [
        {
          "output_type": "stream",
          "name": "stdout",
          "text": [
            "Content-Based Recommendations:\n",
            "     cellphone_id    brand           model     price\n",
            "1              1    Apple  iPhone 13 Mini  0.304976\n",
            "2              2    Apple       iPhone 13  0.304976\n",
            "3              3    Apple   iPhone 13 Pro  0.465490\n",
            "10            10  Samsung      Galaxy S22  0.213483\n",
            "21            21  OnePlus             10T  0.278224\n",
            "\n",
            "Collaborative Filtering Recommendations:\n",
            "     cellphone_id     brand             model     price  predicted_rating\n",
            "0              0     Apple  iPhone SE (2022)  0.160514          0.149560\n",
            "6              6      Asus         Zenfone 8  0.251471          0.142755\n",
            "11            11   Samsung   Galaxy S22 Plus  0.411985          0.140686\n",
            "28            28      Sony        Xperia Pro  1.000000          0.090420\n",
            "31            31  Motorola       Moto G Pure  0.000000          0.090374\n"
          ]
        },
        {
          "output_type": "stream",
          "name": "stderr",
          "text": [
            "<ipython-input-18-ff4d3b154e57>:22: SettingWithCopyWarning: \n",
            "A value is trying to be set on a copy of a slice from a DataFrame.\n",
            "Try using .loc[row_indexer,col_indexer] = value instead\n",
            "\n",
            "See the caveats in the documentation: https://pandas.pydata.org/pandas-docs/stable/user_guide/indexing.html#returning-a-view-versus-a-copy\n",
            "  recommended_cellphones['predicted_rating'] = [x[1] for x in sorted_recommendations]\n"
          ]
        }
      ]
    },
    {
      "cell_type": "markdown",
      "source": [
        "# **Evaluation**"
      ],
      "metadata": {
        "id": "Dj_rVkUJHS6_"
      }
    },
    {
      "cell_type": "markdown",
      "source": [
        "Evaluasi Collaborative Filtering (CF) yaitu dengan menghitung RMSE.\n",
        "RMSE (Root Mean Square Error) digunakan untuk mengukur seberapa akurat prediksi rating dibandingkan dengan rating sebenarnya."
      ],
      "metadata": {
        "id": "aLQBYbHCHZxk"
      }
    },
    {
      "cell_type": "code",
      "source": [
        "from sklearn.metrics import mean_squared_error\n",
        "from math import sqrt\n",
        "\n",
        "# Flatten predictions and actual ratings\n",
        "actual_ratings = ratings_matrix.to_numpy().flatten()\n",
        "predicted_ratings_flat = predicted_ratings.flatten()\n",
        "\n",
        "# Filter out zero ratings (unrated items)\n",
        "mask = actual_ratings > 0  # Hanya rating yang diberikan pengguna\n",
        "rmse = sqrt(mean_squared_error(actual_ratings[mask], predicted_ratings_flat[mask]))\n",
        "\n",
        "print(f\"RMSE (Collaborative Filtering): {rmse}\")"
      ],
      "metadata": {
        "colab": {
          "base_uri": "https://localhost:8080/"
        },
        "id": "GpOyXLVDF592",
        "outputId": "91c37f03-48e7-4385-fb94-28b1a2eee696"
      },
      "execution_count": 20,
      "outputs": [
        {
          "output_type": "stream",
          "name": "stdout",
          "text": [
            "RMSE (Collaborative Filtering): 0.2949150172706381\n"
          ]
        }
      ]
    },
    {
      "cell_type": "markdown",
      "source": [
        "Evaluasi Content-Based Filtering (CBF) dengan menghitung Precision@N dan Recall@N.\n",
        "Precision@N menghitung proporsi rekomendasi yang relevan, sedangkan Recall@N menghitung proporsi item relevan yang ditemukan dalam rekomendasi."
      ],
      "metadata": {
        "id": "O6oTvpuLHlRE"
      }
    },
    {
      "cell_type": "code",
      "source": [
        "def precision_recall_at_n(recommendations, relevant_items, n):\n",
        "    top_n_recommendations = recommendations[:n]\n",
        "    relevant_in_recommendations = set(top_n_recommendations).intersection(set(relevant_items))\n",
        "\n",
        "    precision = len(relevant_in_recommendations) / n\n",
        "    recall = len(relevant_in_recommendations) / len(relevant_items)\n",
        "    return precision, recall\n",
        "\n",
        "# Contoh data pengguna\n",
        "user_id = 0\n",
        "\n",
        "# Ambil ponsel yang sudah dirating oleh pengguna\n",
        "rated_items = ratings_df[ratings_df['user_id'] == user_id]['cellphone_id'].tolist()\n",
        "\n",
        "# Ambil rekomendasi CBF untuk user_id tertentu\n",
        "cbf_recommendations = content_recommendations['cellphone_id'].tolist()\n",
        "\n",
        "# Precision@5 dan Recall@5\n",
        "precision, recall = precision_recall_at_n(cbf_recommendations, rated_items, n=5)\n",
        "print(f\"Precision@5: {precision}\")\n",
        "print(f\"Recall@5: {recall}\")"
      ],
      "metadata": {
        "colab": {
          "base_uri": "https://localhost:8080/"
        },
        "id": "f8OcnWS-HhyI",
        "outputId": "ee960950-573c-4f97-f87a-11de0a7a5922"
      },
      "execution_count": 21,
      "outputs": [
        {
          "output_type": "stream",
          "name": "stdout",
          "text": [
            "Precision@5: 0.4\n",
            "Recall@5: 0.2\n"
          ]
        }
      ]
    },
    {
      "cell_type": "markdown",
      "source": [
        "Analisis Hasil\n",
        "1. Collaborative Filtering (CF):\n",
        "RMSE yang rendah menunjukkan pendekatan ini cukup baik dalam memprediksi rating.\n",
        "CF bergantung pada interaksi pengguna dengan produk. Jika ada lebih banyak data rating, model ini dapat lebih optimal.\n",
        "\n",
        "2. Content-Based Filtering (CBF):\n",
        "Precision lebih tinggi daripada Recall, yang mengindikasikan model dapat memberikan rekomendasi yang relevan, tetapi kurang mencakup semua item relevan.\n",
        "Model ini hanya mempertimbangkan kesamaan fitur ponsel, sehingga rekomendasi lebih terbatas pada kemiripan karakteristik dibandingkan preferensi pengguna.\n"
      ],
      "metadata": {
        "id": "Nn-WHVqzIZOo"
      }
    },
    {
      "cell_type": "code",
      "source": [],
      "metadata": {
        "id": "vj089DSdH6u2"
      },
      "execution_count": null,
      "outputs": []
    }
  ]
}